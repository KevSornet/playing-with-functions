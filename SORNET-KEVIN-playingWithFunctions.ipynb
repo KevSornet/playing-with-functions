{
 "cells": [
  {
   "cell_type": "markdown",
   "metadata": {},
   "source": [
    "# Student Details\n",
    "\n",
    "* ID Number: 204791\n",
    "* Surname: Sornet\n",
    "* Year and Course: 2 BS ITE"
   ]
  },
  {
   "cell_type": "markdown",
   "metadata": {},
   "source": [
    "# Problem 1\n",
    "\n",
    "## Factorial\n",
    "* The factorial of a number is the product of that number and all the numbers below it. For example, 5 factorial (denoted 5! in math) is 5 4 3 2 1, which is 120.\n",
    "\n",
    "## Write a function called problem_1 that takes one positional argument number. The function should return the factorial of number as an integer.\n"
   ]
  },
  {
   "cell_type": "code",
   "execution_count": 6,
   "metadata": {},
   "outputs": [
    {
     "name": "stdout",
     "output_type": "stream",
     "text": [
      "5\n"
     ]
    },
    {
     "data": {
      "text/plain": [
       "'5!is120'"
      ]
     },
     "execution_count": 6,
     "metadata": {},
     "output_type": "execute_result"
    }
   ],
   "source": [
    "def problem_1 (number):\n",
    "    factorial = 1\n",
    "    for i in range(1, number + 1):\n",
    "        factorial = factorial * i\n",
    "    return str(number) + \" ! \" + \"is\" + str(factorial)\n",
    "    \n",
    "\n",
    "number = int(input())\n",
    "\n",
    "problem_1 (number)"
   ]
  },
  {
   "cell_type": "markdown",
   "metadata": {},
   "source": [
    "# Problem 2\n",
    "\n",
    "## Guessing Game\n",
    "\n",
    "## Write a function called problem_2 that takes one positional argument passphrase. The function should ask the user to enter the passphrase with input(). If the user enters the correct passphrase, the function should return the integer 1. If the user enters the wrong passphrase, the function should keep asking them for the passphrase. If the user gets the passphrase wrong 3 times, the function should return the integer 0.\n",
    "\n"
   ]
  },
  {
   "cell_type": "code",
   "execution_count": 3,
   "metadata": {
    "scrolled": true
   },
   "outputs": [
    {
     "name": "stdout",
     "output_type": "stream",
     "text": [
      "Input phrase here: kevin\n",
      "What's your guess?': se\n",
      "2 chance(s) left\n",
      "What's your guess?': d\n",
      "1 chance(s) left\n",
      "What's your guess?': kevin\n",
      "0 chance(s) left\n"
     ]
    },
    {
     "data": {
      "text/plain": [
       "'1'"
      ]
     },
     "execution_count": 3,
     "metadata": {},
     "output_type": "execute_result"
    }
   ],
   "source": [
    "def problem_2 (answer):\n",
    "    correct_phrase = answer\n",
    "    guess = \"\"\n",
    "    points = 0\n",
    "\n",
    "    while correct_phrase != guess and points != 3:\n",
    "        guess = input(\"What's your guess?': \")\n",
    "        print(str(2 - points) + \" chance(s) left\")\n",
    "        points = points + 1\n",
    "    if correct_phrase != guess and points == 3:\n",
    "        return(\"0\")\n",
    "    else: \n",
    "        return(\"1\")\n",
    "        \n",
    "answer = input(\"Input phrase here: \")\n",
    "\n",
    "problem_2 (answer)"
   ]
  },
  {
   "cell_type": "markdown",
   "metadata": {},
   "source": [
    "# Problem 3\n",
    "\n",
    "## Temperature Converter\n",
    "\n",
    "## Write a function called problem_3 that takes three positional arguments: (float) temp, (string) original_format, (string) new_format. The function should convert temp, which is represented in original_format, to its equivalent value in the new_format.\n",
    "\n",
    "\n"
   ]
  },
  {
   "cell_type": "code",
   "execution_count": 17,
   "metadata": {},
   "outputs": [
    {
     "name": "stdout",
     "output_type": "stream",
     "text": [
      "Insert temperature here: 0\n",
      "Insert current format here (Capital): Celsius\n",
      "Insert new format here (Capital): Fahrenheit\n"
     ]
    },
    {
     "data": {
      "text/plain": [
       "32.0"
      ]
     },
     "execution_count": 17,
     "metadata": {},
     "output_type": "execute_result"
    }
   ],
   "source": [
    "def problem_3 (temp, original_format, new_format):\n",
    "    if original_format == \"Celsius\" and new_format == \"Celsius\":\n",
    "        return(temp)\n",
    "    elif original_format == \"Celsius\" and new_format == \"Fahrenheit\":\n",
    "        return(temp*(9/5)+32)\n",
    "    elif original_format == \"Celsius\" and new_format == \"Kelvin\":\n",
    "        return(temp + 273.15)\n",
    "    elif original_format == \"Fahrenheit\" and new_format == \"Celsius\":\n",
    "        return((temp - 32) * 5 / 9)\n",
    "    elif original_format == \"Fahrenheit\" and new_format == \"Fahrenheit\":\n",
    "        return(temp)\n",
    "    elif original_format == \"Fahrenheit\" and new_format == \"Kelvin\":\n",
    "        return(((temp - 32) * 5 / 9) + 273.15)\n",
    "    elif original_format == \"Kelvin\" and new_format == \"Celsius\":\n",
    "        return(temp - 273.15)\n",
    "    elif original_format == \"Kelvin\" and new_format == \"Fahrenheit\":\n",
    "        return((temp - 273.15) * (9/5)+32)\n",
    "    elif original_format == \"Kelvin\" and new_format == \"Kelvin\":\n",
    "        return(temp)\n",
    "\n",
    "temp = float(input(\"Insert temperature here: \"))\n",
    "original_format = input(\"Insert current format here (Capital): \")\n",
    "new_format = input(\"Insert new format here (Capital): \")\n",
    "\n",
    "problem_3 (temp, original_format, new_format)"
   ]
  },
  {
   "cell_type": "markdown",
   "metadata": {},
   "source": [
    "# Problem 4\n",
    "\n",
    "## Exact Change\n",
    "\n",
    "## Write a function called problem_4 that takes 1 positional argument amount in centavos. The function should return a string that describes the appropriate amounts of each type of coin to give to the customer. The string should be formatted as follows:\n",
    "\n",
    "### Use the fewest number of total coins possible.\n",
    "\n",
    "\n",
    "\n"
   ]
  },
  {
   "cell_type": "code",
   "execution_count": 16,
   "metadata": {},
   "outputs": [
    {
     "name": "stdout",
     "output_type": "stream",
     "text": [
      "265\n"
     ]
    },
    {
     "data": {
      "text/plain": [
       "'1p: 2|25c: 2|10c: 1|5c: 1|1c: 0'"
      ]
     },
     "execution_count": 16,
     "metadata": {},
     "output_type": "execute_result"
    }
   ],
   "source": [
    "def problem_4 (centavos):\n",
    "    peso = 0\n",
    "    twentyfive = 0\n",
    "    ten = 0\n",
    "    five = 0\n",
    "    one = 0\n",
    "    \n",
    "    peso = peso + ((centavos//100))\n",
    "    twentyfive = twentyfive + int(((centavos/100) - (centavos//100)) / .25)\n",
    "    ten = ten + int((round((((centavos/100) - (centavos//100)) % .25)*100))/10)\n",
    "    five = five + int(((round((((centavos/100) - (centavos//100)) % .25)*100))%10)//5)\n",
    "    one = one + int((round(((((centavos/100)-(centavos//100))%.25)%.10)*100)%5)//1)\n",
    "    output = \"1p: \" + str(peso) + '|' + \"25c: \" + str(twentyfive) + '|' + \"10c: \" + str(ten) + '|' + \"5c: \" + str(five) + '|' + \"1c: \" + str(one)\n",
    "    return output\n",
    "\n",
    "centavos = int(input())\n",
    "\n",
    "problem_4 (centavos)"
   ]
  },
  {
   "cell_type": "markdown",
   "metadata": {},
   "source": [
    "# Problem 5\n",
    "\n",
    "## Invert Capitalization\n",
    "\n",
    "## Write a function called problem_5 that takes 1 positional argument (string) message. The function should return a string whose uppercase letters are now lowercase and whose lowercase letters are now uppercase. Spaces should be left alone.\n",
    "\n",
    "\n",
    "\n",
    "\n",
    "\n"
   ]
  },
  {
   "cell_type": "code",
   "execution_count": 326,
   "metadata": {},
   "outputs": [
    {
     "data": {
      "text/plain": [
       "(65, 90)"
      ]
     },
     "execution_count": 326,
     "metadata": {},
     "output_type": "execute_result"
    }
   ],
   "source": [
    "ord('A'), ord('Z')"
   ]
  },
  {
   "cell_type": "code",
   "execution_count": 454,
   "metadata": {},
   "outputs": [
    {
     "data": {
      "text/plain": [
       "(97, 122)"
      ]
     },
     "execution_count": 454,
     "metadata": {},
     "output_type": "execute_result"
    }
   ],
   "source": [
    "ord('a'), ord('z')"
   ]
  },
  {
   "cell_type": "code",
   "execution_count": 455,
   "metadata": {},
   "outputs": [
    {
     "data": {
      "text/plain": [
       "32"
      ]
     },
     "execution_count": 455,
     "metadata": {},
     "output_type": "execute_result"
    }
   ],
   "source": [
    "ord(' ')"
   ]
  },
  {
   "cell_type": "code",
   "execution_count": 15,
   "metadata": {},
   "outputs": [
    {
     "name": "stdout",
     "output_type": "stream",
     "text": [
      "ThE QuiCk BrowN fOX JuMpED oVer tHe LaZY Dog\n"
     ]
    },
    {
     "data": {
      "text/plain": [
       "'tHe qUIcK bROWn Fox jUmPed OvER ThE lAzy dOG'"
      ]
     },
     "execution_count": 15,
     "metadata": {},
     "output_type": "execute_result"
    }
   ],
   "source": [
    "def problem_5 (word):\n",
    "    new = (\"\")\n",
    "    for i in word:\n",
    "        if ord(i) == 32:\n",
    "            new += chr(ord(i))\n",
    "        elif ord(i) <= 90:\n",
    "            new += chr(ord(i) + 32)\n",
    "        else:\n",
    "            new += chr(ord(i) - 32)\n",
    "            \n",
    "    values = \"\".join(str(new))\n",
    "    return(values)\n",
    "word = input()\n",
    "\n",
    "problem_5(word)"
   ]
  }
 ],
 "metadata": {
  "kernelspec": {
   "display_name": "Python 3",
   "language": "python",
   "name": "python3"
  },
  "language_info": {
   "codemirror_mode": {
    "name": "ipython",
    "version": 3
   },
   "file_extension": ".py",
   "mimetype": "text/x-python",
   "name": "python",
   "nbconvert_exporter": "python",
   "pygments_lexer": "ipython3",
   "version": "3.8.5"
  }
 },
 "nbformat": 4,
 "nbformat_minor": 4
}
