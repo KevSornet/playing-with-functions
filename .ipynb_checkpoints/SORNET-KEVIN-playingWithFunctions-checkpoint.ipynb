{
 "cells": [
  {
   "cell_type": "markdown",
   "metadata": {},
   "source": [
    "# Student Details\n",
    "\n",
    "* ID Number: 204791\n",
    "* Surname: Sornet\n",
    "* Year and Course: 2 BS ITE"
   ]
  },
  {
   "cell_type": "markdown",
   "metadata": {},
   "source": [
    "# Problem 1\n",
    "\n",
    "## Factorial\n",
    "* The factorial of a number is the product of that number and all the numbers below it. For example, 5 factorial (denoted 5! in math) is 5 4 3 2 1, which is 120.\n",
    "\n",
    "## Write a function called problem_1 that takes one positional argument number. The function should return the factorial of number as an integer.\n"
   ]
  },
  {
   "cell_type": "code",
   "execution_count": 4,
   "metadata": {},
   "outputs": [
    {
     "name": "stdout",
     "output_type": "stream",
     "text": [
      "5\n",
      "5 ! is 120\n"
     ]
    }
   ],
   "source": [
    "def factorial (problem_1):\n",
    "    factorial = 1\n",
    "    for i in range(1, problem_1 + 1):\n",
    "        factorial = factorial * i\n",
    "    print(problem_1,\"!\", \"is\", factorial)\n",
    "\n",
    "problem_1 = int(input())\n",
    "\n",
    "factorial (problem_1)"
   ]
  },
  {
   "cell_type": "markdown",
   "metadata": {},
   "source": [
    "# Problem 2\n",
    "\n",
    "## Guessing Game\n",
    "\n",
    "## Write a function called problem_2 that takes one positional argument passphrase. The function should ask the user to enter the passphrase with input(). If the user enters the correct passphrase, the function should return the integer 1. If the user enters the wrong passphrase, the function should keep asking them for the passphrase. If the user gets the passphrase wrong 3 times, the function should return the integer 0.\n",
    "\n"
   ]
  },
  {
   "cell_type": "code",
   "execution_count": 9,
   "metadata": {},
   "outputs": [
    {
     "name": "stdout",
     "output_type": "stream",
     "text": [
      "Input your guess here: kev\n",
      "Try again: kev\n",
      "2 chance(s) left\n",
      "Try again: kev\n",
      "1 chance(s) left\n",
      "Try again: joben\n",
      "0 chance(s) left\n",
      "1\n"
     ]
    }
   ],
   "source": [
    "def problem_2 (guess):\n",
    "    correct_phrase = \"joben\"\n",
    "    points = 0\n",
    "\n",
    "    while correct_phrase != guess and points != 3:\n",
    "        guess = input(\"Try again: \")\n",
    "        print(str(2 - points) + \" chance(s) left\")\n",
    "        points = points + 1\n",
    "    if correct_phrase != guess and points == 3:\n",
    "        print(\"0\")\n",
    "    else: \n",
    "        print(\"1\")\n",
    "        \n",
    "guess = input(\"Input your guess here: \")\n",
    "\n",
    "problem_2 (guess)"
   ]
  },
  {
   "cell_type": "markdown",
   "metadata": {},
   "source": [
    "# Problem 3\n",
    "\n",
    "## Temperature Converter\n",
    "\n",
    "## Write a function called problem_3 that takes three positional arguments: (float) temp, (string) original_format, (string) new_format. The function should convert temp, which is represented in original_format, to its equivalent value in the new_format.\n",
    "\n",
    "\n"
   ]
  },
  {
   "cell_type": "code",
   "execution_count": 15,
   "metadata": {},
   "outputs": [
    {
     "name": "stdout",
     "output_type": "stream",
     "text": [
      "Insert temperature here: 0\n",
      "Insert current format here (Capital): C\n",
      "Insert new format here (Capital): K\n",
      "273.15\n"
     ]
    }
   ],
   "source": [
    "def problem_3 (temp, original_format, new_format):\n",
    "    if original_format == \"C\" and new_format == \"C\":\n",
    "        print(temp)\n",
    "    elif original_format == \"C\" and new_format == \"F\":\n",
    "        print(temp(9/5)+32)\n",
    "    elif original_format == \"C\" and new_format == \"K\":\n",
    "        print(temp + 273.15)\n",
    "    elif original_format == \"F\" and new_format == \"C\":\n",
    "        print((temp - 32) * 5 / 9)\n",
    "    elif original_format == \"F\" and new_format == \"F\":\n",
    "        print(temp)\n",
    "    elif original_format == \"F\" and new_format == \"K\":\n",
    "        print(((temp - 32) * 5 / 9) + 273.15)\n",
    "    elif original_format == \"K\" and new_format == \"C\":\n",
    "        print(temp - 273.15)\n",
    "    elif original_format == \"K\" and new_format == \"F\":\n",
    "        print((temp - 273.15) * (9/5)+32)\n",
    "    elif original_format == \"K\" and new_format == \"K\":\n",
    "        print(temp)\n",
    "\n",
    "temp = float(input(\"Insert temperature here: \"))\n",
    "original_format = input(\"Insert current format here (Capital): \")\n",
    "new_format = input(\"Insert new format here (Capital): \")\n",
    "\n",
    "problem_3 (temp, original_format, new_format)"
   ]
  },
  {
   "cell_type": "markdown",
   "metadata": {},
   "source": [
    "# Problem 4\n",
    "\n",
    "## Exact Change\n",
    "\n",
    "## Write a function called problem_4 that takes 1 positional argument amount in centavos. The function should return a string that describes the appropriate amounts of each type of coin to give to the customer. The string should be formatted as follows:\n",
    "\n",
    "### Use the fewest number of total coins possible.\n",
    "\n",
    "\n",
    "\n"
   ]
  },
  {
   "cell_type": "code",
   "execution_count": 126,
   "metadata": {},
   "outputs": [
    {
     "name": "stdout",
     "output_type": "stream",
     "text": [
      "65\n",
      "0 2 1 1 0\n"
     ]
    }
   ],
   "source": [
    "def problem_4 (centavos):\n",
    "    peso = 0\n",
    "    twentyfive = 0\n",
    "    ten = 0\n",
    "    five = 0\n",
    "    one = 0\n",
    "    values = (peso, twentyfive, ten, five, one)\n",
    "    \n",
    "    if centavos >= 100:\n",
    "        peso = peso + ((centavos//100))\n",
    "        twentyfive = twentyfive + int(((centavos/100) - ((centavos//100))) / .25)\n",
    "        ten = ten + int((((centavos/100)-(centavos//100))%.25)//.10)\n",
    "        five = five + int(round(((((centavos/100)-(centavos//100))%.25)%.10)*100)//5)\n",
    "        one = one + int((round(((((centavos/100)-(centavos//100))%.25)%.10)*100)%5)//1)\n",
    "    else:\n",
    "        twentyfive = twentyfive + int(((centavos/100) - ((centavos//100))) / .25)\n",
    "        ten = ten + int((((centavos/100)-(centavos//100))%.25)//.10)\n",
    "        five = five + int(round(((((centavos/100)-(centavos//100))%.25)%.10)*100)//5)\n",
    "        one = one + int((round(((((centavos/100)-(centavos//100))%.25)%.10)*100)%5)//1)\n",
    "        print(peso, twentyfive, ten, five, one)\n",
    "        \n",
    "centavos = int(input())\n",
    "\n",
    "problem_4 (centavos)"
   ]
  }
 ],
 "metadata": {
  "kernelspec": {
   "display_name": "Python 3",
   "language": "python",
   "name": "python3"
  },
  "language_info": {
   "codemirror_mode": {
    "name": "ipython",
    "version": 3
   },
   "file_extension": ".py",
   "mimetype": "text/x-python",
   "name": "python",
   "nbconvert_exporter": "python",
   "pygments_lexer": "ipython3",
   "version": "3.8.5"
  }
 },
 "nbformat": 4,
 "nbformat_minor": 4
}
