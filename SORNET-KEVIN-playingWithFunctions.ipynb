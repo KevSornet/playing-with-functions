{
 "cells": [
  {
   "cell_type": "markdown",
   "metadata": {},
   "source": [
    "# Student Details\n",
    "\n",
    "* ID Number: 204791\n",
    "* Surname: Sornet\n",
    "* Year and Course: 2 BS ITE"
   ]
  },
  {
   "cell_type": "markdown",
   "metadata": {},
   "source": [
    "# Problem 1\n",
    "\n",
    "## Factorial\n",
    "* The factorial of a number is the product of that number and all the numbers below it. For example, 5 factorial (denoted 5! in math) is 5 4 3 2 1, which is 120.\n",
    "\n",
    "## Write a function called problem_1 that takes one positional argument number. The function should return the factorial of number as an integer.\n"
   ]
  },
  {
   "cell_type": "code",
   "execution_count": 18,
   "metadata": {},
   "outputs": [
    {
     "name": "stdout",
     "output_type": "stream",
     "text": [
      "5\n",
      "5 ! is 120\n"
     ]
    }
   ],
   "source": [
    "problem_1 = int(input())\n",
    "\n",
    "factorial = 1\n",
    "\n",
    "for i in range(1, problem_1 + 1):\n",
    "    factorial = factorial * i\n",
    "\n",
    "print(problem_1,\"!\", \"is\", factorial)"
   ]
  },
  {
   "cell_type": "code",
   "execution_count": null,
   "metadata": {},
   "outputs": [],
   "source": []
  },
  {
   "cell_type": "markdown",
   "metadata": {},
   "source": [
    "# Problem 2\n",
    "\n",
    "## Guessing Game\n",
    "\n",
    "## Write a function called problem_2 that takes one positional argument passphrase. The function should ask the user to enter the passphrase with input(). If the user enters the correct passphrase, the function should return the integer 1. If the user enters the wrong passphrase, the function should keep asking them for the passphrase. If the user gets the passphrase wrong 3 times, the function should return the integer 0.\n",
    "\n"
   ]
  },
  {
   "cell_type": "code",
   "execution_count": 57,
   "metadata": {},
   "outputs": [
    {
     "name": "stdout",
     "output_type": "stream",
     "text": [
      "Input your guess here: kevin\n"
     ]
    }
   ],
   "source": [
    "correct_phrase = \"joben\" or \"Joben\"\n",
    "phrase = input(\"Input your guess here: \")\n",
    "\n",
    "while correct_phrase == phrase is False:\n",
    "    if phrase != correct_phrase: \n",
    "        phrase = input(\"Try again: \")\n",
    "     \n",
    "    else:\n",
    "        print(\"You guessed it correctly!\")\n",
    "        break"
   ]
  },
  {
   "cell_type": "code",
   "execution_count": null,
   "metadata": {},
   "outputs": [],
   "source": []
  }
 ],
 "metadata": {
  "kernelspec": {
   "display_name": "Python 3",
   "language": "python",
   "name": "python3"
  },
  "language_info": {
   "codemirror_mode": {
    "name": "ipython",
    "version": 3
   },
   "file_extension": ".py",
   "mimetype": "text/x-python",
   "name": "python",
   "nbconvert_exporter": "python",
   "pygments_lexer": "ipython3",
   "version": "3.8.5"
  }
 },
 "nbformat": 4,
 "nbformat_minor": 4
}
